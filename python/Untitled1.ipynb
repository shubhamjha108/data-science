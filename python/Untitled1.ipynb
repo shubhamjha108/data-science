{
 "cells": [
  {
   "cell_type": "code",
   "execution_count": 1,
   "id": "1ced4a0e-7846-4515-8304-24d16066f484",
   "metadata": {},
   "outputs": [
    {
     "name": "stdout",
     "output_type": "stream",
     "text": [
      "hello data science\n"
     ]
    }
   ],
   "source": [
    "print(\"hello data science\")"
   ]
  },
  {
   "cell_type": "code",
   "execution_count": 7,
   "id": "5ee1a317-c9b7-4172-b6bf-bc784a08a025",
   "metadata": {},
   "outputs": [
    {
     "name": "stdout",
     "output_type": "stream",
     "text": [
      "My name is shubham jha\n"
     ]
    }
   ],
   "source": [
    "print(\"My name is shubham jha\")"
   ]
  },
  {
   "cell_type": "code",
   "execution_count": null,
   "id": "bfbb24d9-dfb9-4373-96fc-032db4172907",
   "metadata": {},
   "outputs": [],
   "source": []
  },
  {
   "cell_type": "markdown",
   "id": "89fc5bbc-c005-472b-9198-3881a6483da2",
   "metadata": {},
   "source": [
    "to run and executr the cell shift+enter or alt+enter\n",
    "\n",
    "to add cell above the current cell esc+a\n",
    "\n",
    "to add cell below the cureent cell esc+b\n",
    "\n",
    "to delete the cell esc+d+d\n",
    "\n",
    "type markdown and latex\n",
    "\n",
    "always use small p in print \n"
   ]
  },
  {
   "cell_type": "code",
   "execution_count": 9,
   "id": "2314ab00-9c3f-4ac3-805d-097b443e2500",
   "metadata": {},
   "outputs": [
    {
     "name": "stdout",
     "output_type": "stream",
     "text": [
      "5.0\n"
     ]
    }
   ],
   "source": [
    "x=25/5\n",
    "print(x)"
   ]
  },
  {
   "cell_type": "code",
   "execution_count": null,
   "id": "143b520c-fbb0-4549-b026-b8aa6e223432",
   "metadata": {},
   "outputs": [],
   "source": []
  }
 ],
 "metadata": {
  "kernelspec": {
   "display_name": "Python 3 (ipykernel)",
   "language": "python",
   "name": "python3"
  },
  "language_info": {
   "codemirror_mode": {
    "name": "ipython",
    "version": 3
   },
   "file_extension": ".py",
   "mimetype": "text/x-python",
   "name": "python",
   "nbconvert_exporter": "python",
   "pygments_lexer": "ipython3",
   "version": "3.11.7"
  }
 },
 "nbformat": 4,
 "nbformat_minor": 5
}
